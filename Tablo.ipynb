{
 "cells": [
  {
   "cell_type": "code",
   "execution_count": null,
   "id": "fe80f0e8",
   "metadata": {},
   "outputs": [],
   "source": [
    "import numpy as np\n",
    "from prettytable import PrettyTable\n",
    "from colorama import Fore, Style\n",
    "# pandas kütüphanesi ile tabloyu düzgün çıkaramadım. bu sebeple araştırdım ve prettytable kullanmaya karar verdim.\n",
    "# colorama kütüphanesi ile de tabloyu renklendirdim."
   ]
  },
  {
   "cell_type": "code",
   "execution_count": null,
   "id": "07b39c96",
   "metadata": {
    "lines_to_next_cell": 1
   },
   "outputs": [],
   "source": [
    "yas_dizisi = np.array([15, 15, 16, 19, 19, 20, 20, 21, 22, 28, 35, 40, 41, 42, 43, 44, 60, 61, 65])\n",
    "c1 = 16\n",
    "c2 = 22"
   ]
  },
  {
   "cell_type": "code",
   "execution_count": null,
   "id": "56d8c7bc",
   "metadata": {
    "lines_to_next_cell": 1
   },
   "outputs": [],
   "source": [
    "def en_yakin_merkez(yas, kume_1, kume_2):\n",
    "    k1_mesafe = abs(yas - kume_1)\n",
    "    k2_mesafe = abs(yas - kume_2)\n",
    "    en_yakin_kume = kume_1 if k1_mesafe <= k2_mesafe else kume_2\n",
    "    return en_yakin_kume"
   ]
  },
  {
   "cell_type": "code",
   "execution_count": null,
   "id": "35c42be4",
   "metadata": {
    "lines_to_next_cell": 1
   },
   "outputs": [],
   "source": [
    "def kume_bul(kume1, kume2):\n",
    "    k1_toplam = 0\n",
    "    k2_toplam = 0\n",
    "    k1_elemanlar = 0\n",
    "    k2_elemanlar = 0\n",
    "\n",
    "    for yas in yas_dizisi:\n",
    "        en_yakin_kume = en_yakin_merkez(yas, kume1, kume2)\n",
    "        if en_yakin_kume == kume2:\n",
    "            k2_elemanlar += 1\n",
    "            k2_toplam += yas\n",
    "        elif en_yakin_kume == kume1:\n",
    "            k1_elemanlar += 1\n",
    "            k1_toplam += yas\n",
    "\n",
    "    kume1_ortalama = k1_toplam / k1_elemanlar if k1_elemanlar != 0 else 0\n",
    "    kume2_ortalama = k2_toplam / k2_elemanlar if k2_elemanlar != 0 else 0\n",
    "\n",
    "    return {\"kume1_ortalama\": kume1_ortalama, \"kume2_ortalama\": kume2_ortalama}"
   ]
  },
  {
   "cell_type": "code",
   "execution_count": null,
   "id": "506e2b5c",
   "metadata": {},
   "outputs": [],
   "source": [
    "son_c1 = c1\n",
    "son_c2 = c2"
   ]
  },
  {
   "cell_type": "code",
   "execution_count": null,
   "id": "5478d891",
   "metadata": {},
   "outputs": [],
   "source": [
    "for i in range(1, 5):\n",
    "    kumeler = kume_bul(son_c1, son_c2)\n",
    "\n",
    "    mesafe_1 = np.abs(yas_dizisi - son_c1)\n",
    "    mesafe_2 = np.abs(yas_dizisi - son_c2)\n",
    "    en_yakin_kume = np.where(mesafe_1 > mesafe_2, 2, 1)\n",
    "    yeni_merkez = np.where(en_yakin_kume == 1, son_c1, son_c2)\n",
    "\n",
    "    table = PrettyTable([\"Xi\", \"C1\", \"C2\", \"Mesafe 1\", \"Mesafe 2\", \"En Yakın Kume\", \"Yeni Merkez\"])\n",
    "    for j in range(len(yas_dizisi)):\n",
    "        if en_yakin_kume[j] == 1:\n",
    "            table.add_row([Fore.GREEN + str(yas_dizisi[j]) + Style.RESET_ALL, son_c1, son_c2, mesafe_1[j], mesafe_2[j], en_yakin_kume[j], yeni_merkez[j]])\n",
    "        elif en_yakin_kume[j] == 2:\n",
    "            table.add_row([Fore.CYAN + str(yas_dizisi[j]) + Style.RESET_ALL, son_c1, son_c2, mesafe_1[j], mesafe_2[j], en_yakin_kume[j], yeni_merkez[j]])\n",
    "\n",
    "    print(f\"Iterasyon {i}:\")\n",
    "    print(table)\n",
    "    print(f\"Kume 1 Ortalama: {kumeler['kume1_ortalama']:.2f}, Kume 2 Ortalama: {kumeler['kume2_ortalama']:.2f}\\n\")\n",
    "\n",
    "    son_c1 = kumeler['kume1_ortalama']\n",
    "    son_c2 = kumeler['kume2_ortalama']"
   ]
  }
 ],
 "metadata": {
  "jupytext": {
   "cell_metadata_filter": "-all",
   "main_language": "python",
   "notebook_metadata_filter": "-all"
  }
 },
 "nbformat": 4,
 "nbformat_minor": 5
}
